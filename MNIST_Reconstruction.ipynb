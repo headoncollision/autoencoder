{
 "cells": [
  {
   "cell_type": "markdown",
   "metadata": {
    "id": "V8KSo5Bb3T5h"
   },
   "source": [
    "# Important - Instructions\n",
    "**Make a copy of this notebook and do your work there. Save your notebook frequently and finally upload it on coderbyte within the timelimit.**\n",
    "\n",
    "This notebook is divided into three sections, each dedicated to solving a specific task involving an autoencoder for the MNIST dataset. The tasks include fixing training issues, optimizing performance, and generating images.\n",
    "\n",
    "At the end of each secion, briefly summarise what ideas/methods/changes (even those that you think didn't work) you've done for the section very briefly. This shouldn't take you more than ~5 minutes of your whole time.\n",
    "\n",
    "# Overview of the tasks:\n",
    "- **Fix Errors in Autoencoder Training/Inference:** Resolve any bugs in the training or inference process of the autoencoder.\n",
    "- **Enhance Validation Loss:** Improve the autoencoder's performance by minimizing the validation loss.\n",
    "- **Generate Images with the Optimized Model:** Use the best-trained model to generate images.\n",
    "\n",
    "# Guidelines:\n",
    "- **Imports:** Use only the imports already provided in the notebook. Any new import statements will be removed during evaluation.\n",
    "- **Protected Code:** Certain cells are marked with # DO NOT MODIFY. Leave the code in these cells unchanged, but you may run the code.\n",
    "- **Efficiency:** Ensure your solutions are written with efficiency in mind wherever applicable."
   ]
  },
  {
   "cell_type": "markdown",
   "metadata": {
    "id": "mojjOgL6Yu7a"
   },
   "source": [
    "# Setup\n",
    "You just have to run the code in this section"
   ]
  },
  {
   "cell_type": "code",
   "execution_count": 1,
   "metadata": {
    "id": "drvXzCg-0Cqs"
   },
   "outputs": [
    {
     "name": "stdout",
     "output_type": "stream",
     "text": [
      "Looking in indexes: https://download.pytorch.org/whl/cpu\n",
      "Requirement already satisfied: torch in /home/priyadarshin/anaconda3/lib/python3.12/site-packages (2.5.1+rocm6.2)\n",
      "Requirement already satisfied: torchvision in /home/priyadarshin/anaconda3/lib/python3.12/site-packages (0.20.1+rocm6.2)\n",
      "Requirement already satisfied: filelock in /home/priyadarshin/anaconda3/lib/python3.12/site-packages (from torch) (3.13.1)\n",
      "Requirement already satisfied: typing-extensions>=4.8.0 in /home/priyadarshin/anaconda3/lib/python3.12/site-packages (from torch) (4.11.0)\n",
      "Requirement already satisfied: networkx in /home/priyadarshin/anaconda3/lib/python3.12/site-packages (from torch) (3.3)\n",
      "Requirement already satisfied: jinja2 in /home/priyadarshin/anaconda3/lib/python3.12/site-packages (from torch) (3.1.4)\n",
      "Requirement already satisfied: fsspec in /home/priyadarshin/anaconda3/lib/python3.12/site-packages (from torch) (2024.6.1)\n",
      "Requirement already satisfied: pytorch-triton-rocm==3.1.0 in /home/priyadarshin/anaconda3/lib/python3.12/site-packages (from torch) (3.1.0)\n",
      "Requirement already satisfied: setuptools in /home/priyadarshin/anaconda3/lib/python3.12/site-packages (from torch) (75.1.0)\n",
      "Requirement already satisfied: sympy==1.13.1 in /home/priyadarshin/anaconda3/lib/python3.12/site-packages (from torch) (1.13.1)\n",
      "Requirement already satisfied: mpmath<1.4,>=1.1.0 in /home/priyadarshin/anaconda3/lib/python3.12/site-packages (from sympy==1.13.1->torch) (1.3.0)\n",
      "Requirement already satisfied: numpy in /home/priyadarshin/anaconda3/lib/python3.12/site-packages (from torchvision) (1.26.4)\n",
      "Requirement already satisfied: pillow!=8.3.*,>=5.3.0 in /home/priyadarshin/anaconda3/lib/python3.12/site-packages (from torchvision) (10.4.0)\n",
      "Requirement already satisfied: MarkupSafe>=2.0 in /home/priyadarshin/anaconda3/lib/python3.12/site-packages (from jinja2->torch) (2.1.3)\n",
      "Collecting gdown\n",
      "  Downloading gdown-5.2.0-py3-none-any.whl.metadata (5.8 kB)\n",
      "Requirement already satisfied: beautifulsoup4 in /home/priyadarshin/anaconda3/lib/python3.12/site-packages (from gdown) (4.12.3)\n",
      "Requirement already satisfied: filelock in /home/priyadarshin/anaconda3/lib/python3.12/site-packages (from gdown) (3.13.1)\n",
      "Requirement already satisfied: requests[socks] in /home/priyadarshin/anaconda3/lib/python3.12/site-packages (from gdown) (2.32.3)\n",
      "Requirement already satisfied: tqdm in /home/priyadarshin/anaconda3/lib/python3.12/site-packages (from gdown) (4.66.5)\n",
      "Requirement already satisfied: soupsieve>1.2 in /home/priyadarshin/anaconda3/lib/python3.12/site-packages (from beautifulsoup4->gdown) (2.5)\n",
      "Requirement already satisfied: charset-normalizer<4,>=2 in /home/priyadarshin/anaconda3/lib/python3.12/site-packages (from requests[socks]->gdown) (3.3.2)\n",
      "Requirement already satisfied: idna<4,>=2.5 in /home/priyadarshin/anaconda3/lib/python3.12/site-packages (from requests[socks]->gdown) (3.7)\n",
      "Requirement already satisfied: urllib3<3,>=1.21.1 in /home/priyadarshin/anaconda3/lib/python3.12/site-packages (from requests[socks]->gdown) (2.2.3)\n",
      "Requirement already satisfied: certifi>=2017.4.17 in /home/priyadarshin/anaconda3/lib/python3.12/site-packages (from requests[socks]->gdown) (2024.8.30)\n",
      "Requirement already satisfied: PySocks!=1.5.7,>=1.5.6 in /home/priyadarshin/anaconda3/lib/python3.12/site-packages (from requests[socks]->gdown) (1.7.1)\n",
      "Downloading gdown-5.2.0-py3-none-any.whl (18 kB)\n",
      "Installing collected packages: gdown\n",
      "Successfully installed gdown-5.2.0\n"
     ]
    }
   ],
   "source": [
    "! pip install torch torchvision --index-url https://download.pytorch.org/whl/cpu\n",
    "! pip install gdown"
   ]
  },
  {
   "cell_type": "code",
   "execution_count": 2,
   "metadata": {
    "id": "uZho3T0-nlxQ"
   },
   "outputs": [],
   "source": [
    "# DO NOT MODIFY\n",
    "import os\n",
    "import matplotlib.pyplot as plt\n",
    "import numpy as np\n",
    "import random\n",
    "import torch\n",
    "import time\n",
    "from numpy.typing import NDArray\n",
    "from torch import nn, optim\n",
    "from torch.utils.data import DataLoader\n",
    "from tqdm import tqdm\n",
    "\n",
    "\n",
    "def seed_everything(seed=42):\n",
    "    random.seed(seed)\n",
    "    os.environ['PYTHONHASHSEED'] = str(seed)\n",
    "    np.random.seed(seed)\n",
    "    torch.manual_seed(seed)\n",
    "    torch.cuda.manual_seed(seed)\n",
    "    torch.backends.cudnn.deterministic = True\n",
    "\n",
    "seed_everything()"
   ]
  },
  {
   "cell_type": "code",
   "execution_count": 3,
   "metadata": {
    "id": "T4YfLCzd0Cqu"
   },
   "outputs": [
    {
     "name": "stderr",
     "output_type": "stream",
     "text": [
      "Downloading...\n",
      "From (original): https://drive.google.com/uc?id=1JMd32keTqqUAofWRPBnIg9PpusJD8mYt\n",
      "From (redirected): https://drive.google.com/uc?id=1JMd32keTqqUAofWRPBnIg9PpusJD8mYt&confirm=t&uuid=222aaba1-60f9-4478-ae2e-7f4eb561d590\n",
      "To: /home/priyadarshin/Downloads/data/mnist_dataset_train.pt\n",
      "100%|██████████████████████████████████████| 47.5M/47.5M [00:04<00:00, 10.5MB/s]\n",
      "Downloading...\n",
      "From: https://drive.google.com/uc?id=1OG8mBivCdXBwH8uCMvjWnVhHFtRagmSU\n",
      "To: /home/priyadarshin/Downloads/data/mnist_dataset_test.pt\n",
      "100%|██████████████████████████████████████| 7.92M/7.92M [00:00<00:00, 9.41MB/s]\n"
     ]
    },
    {
     "data": {
      "text/plain": [
       "'data/mnist_dataset_test.pt'"
      ]
     },
     "execution_count": 3,
     "metadata": {},
     "output_type": "execute_result"
    }
   ],
   "source": [
    "# DO NOT MODIFY\n",
    "import gdown\n",
    "\n",
    "os.makedirs(\"data\", exist_ok=True)\n",
    "\n",
    "mnist_train_file_id = \"1JMd32keTqqUAofWRPBnIg9PpusJD8mYt\"\n",
    "mnist_train_output = \"data/mnist_dataset_train.pt\"  # Desired filename for the downloaded file\n",
    "\n",
    "mnist_test_file_id = \"1OG8mBivCdXBwH8uCMvjWnVhHFtRagmSU\"\n",
    "mnist_test_output = \"data/mnist_dataset_test.pt\"  # Desired filename for the downloaded file\n",
    "\n",
    "# Download the file\n",
    "gdown.download(f\"https://drive.google.com/uc?id={mnist_train_file_id}\", mnist_train_output, quiet=False)\n",
    "gdown.download(f\"https://drive.google.com/uc?id={mnist_test_file_id}\", mnist_test_output, quiet=False)"
   ]
  },
  {
   "cell_type": "code",
   "execution_count": 4,
   "metadata": {
    "id": "Wyc7kBTgNY7g"
   },
   "outputs": [
    {
     "name": "stderr",
     "output_type": "stream",
     "text": [
      "Downloading...\n",
      "From: https://drive.google.com/uc?id=1v_-Gq58ee7w2WM977O4qXCiLhhGRwHVb\n",
      "To: /home/priyadarshin/Downloads/advanced_autoencoder_model.pth\n",
      "100%|████████████████████████████████████████| 455k/455k [00:00<00:00, 1.78MB/s]\n"
     ]
    }
   ],
   "source": [
    "# DO NOT MODIFY\n",
    "import gdown\n",
    "file_id = \"1v_-Gq58ee7w2WM977O4qXCiLhhGRwHVb\"\n",
    "output = \"advanced_autoencoder_model.pth\"  # Desired filename for the downloaded file\n",
    "\n",
    "# Download the file\n",
    "gdown.download(f\"https://drive.google.com/uc?id={file_id}\", output, quiet=False)\n",
    "\n",
    "def load_pretrained_model():\n",
    "  model = torch.load(\"advanced_autoencoder_model.pth\")\n",
    "  model.eval()\n",
    "  return model"
   ]
  },
  {
   "cell_type": "markdown",
   "metadata": {
    "id": "2ZFkZMKwEAj0"
   },
   "source": [
    "# Section 1 - Fix autoencoder training\n",
    " This section doesn't require you to write a lot of code,  rather requires your attention to the details of standard ML training and inference.\n",
    "\n",
    "**Expected time on this section: 20 minutes**<br>\n",
    "**Maximum time on this section: 30 minutes**\n",
    "\n",
    "In this section, you are given an AutoEncoder implementation along with code to train this model on reconstruction of MNIST images.\n",
    "\n",
    "If you run the code as is, you will observe the visualisation doesn't work as expected. Your task is to figure out the bugs and fix them.\n",
    "\n",
    "You know you have resolved the bugs if loss decreases considerably within 2 epochs and you are able to visualise non-trivial images reconstructed by the autoencoder (code for visualisation is provided at the end of this section)."
   ]
  },
  {
   "cell_type": "code",
   "execution_count": 5,
   "metadata": {
    "id": "4BCOJiKzFDOT"
   },
   "outputs": [],
   "source": [
    "# DO NOT MODIFY\n",
    "class Autoencoder(nn.Module):\n",
    "    def __init__(self):\n",
    "        super(Autoencoder, self).__init__()\n",
    "        self.encoder = nn.Sequential(\n",
    "            nn.Flatten(),\n",
    "            nn.Linear(28 * 28, 128),\n",
    "            nn.ReLU(),\n",
    "            nn.Linear(128, 64),\n",
    "            nn.ReLU(),\n",
    "            nn.Linear(64, 32)\n",
    "        )\n",
    "        self.decoder = nn.Sequential(\n",
    "            nn.Linear(32, 64),\n",
    "            nn.ReLU(),\n",
    "            nn.Linear(64, 128),\n",
    "            nn.ReLU(),\n",
    "            nn.Linear(128, 28 * 28),\n",
    "            nn.Sigmoid()\n",
    "        )\n",
    "\n",
    "    def forward(self, x):\n",
    "        x = self.encoder(x)\n",
    "        x = self.decoder(x)\n",
    "        return x"
   ]
  },
  {
   "cell_type": "code",
   "execution_count": 13,
   "metadata": {
    "id": "CQib-F6UFHhJ"
   },
   "outputs": [],
   "source": [
    "model = Autoencoder()\n",
    "criterion = nn.MSELoss()\n",
    "optimizer = optim.Adam(model.parameters(), lr=0.0001)"
   ]
  },
  {
   "cell_type": "code",
   "execution_count": 20,
   "metadata": {
    "id": "jluvwqg20Cqx"
   },
   "outputs": [],
   "source": [
    "def toTensor(x):\n",
    "    x = np.array(x) / 255.0 \n",
    "    return torch.from_numpy(np.array(x)).float()"
   ]
  },
  {
   "cell_type": "code",
   "execution_count": 21,
   "metadata": {
    "id": "dTLe4O2k0Cqx"
   },
   "outputs": [
    {
     "name": "stderr",
     "output_type": "stream",
     "text": [
      "/tmp/ipykernel_6388/3757253876.py:1: FutureWarning: You are using `torch.load` with `weights_only=False` (the current default value), which uses the default pickle module implicitly. It is possible to construct malicious pickle data which will execute arbitrary code during unpickling (See https://github.com/pytorch/pytorch/blob/main/SECURITY.md#untrusted-models for more details). In a future release, the default value for `weights_only` will be flipped to `True`. This limits the functions that could be executed during unpickling. Arbitrary objects will no longer be allowed to be loaded via this mode unless they are explicitly allowlisted by the user via `torch.serialization.add_safe_globals`. We recommend you start setting `weights_only=True` for any use case where you don't have full control of the loaded file. Please open an issue on GitHub for any issues related to this experimental feature.\n",
      "  train_dataset = torch.load('data/mnist_dataset_train.pt')\n",
      "/tmp/ipykernel_6388/3757253876.py:4: FutureWarning: You are using `torch.load` with `weights_only=False` (the current default value), which uses the default pickle module implicitly. It is possible to construct malicious pickle data which will execute arbitrary code during unpickling (See https://github.com/pytorch/pytorch/blob/main/SECURITY.md#untrusted-models for more details). In a future release, the default value for `weights_only` will be flipped to `True`. This limits the functions that could be executed during unpickling. Arbitrary objects will no longer be allowed to be loaded via this mode unless they are explicitly allowlisted by the user via `torch.serialization.add_safe_globals`. We recommend you start setting `weights_only=True` for any use case where you don't have full control of the loaded file. Please open an issue on GitHub for any issues related to this experimental feature.\n",
      "  test_dataset = torch.load('data/mnist_dataset_test.pt')\n"
     ]
    }
   ],
   "source": [
    "train_dataset = torch.load('data/mnist_dataset_train.pt')\n",
    "train_dataset.transform = toTensor\n",
    "\n",
    "test_dataset = torch.load('data/mnist_dataset_test.pt')\n",
    "test_dataset.transform = toTensor"
   ]
  },
  {
   "cell_type": "code",
   "execution_count": 23,
   "metadata": {
    "id": "3b1tlMJM-ajs"
   },
   "outputs": [
    {
     "name": "stderr",
     "output_type": "stream",
     "text": [
      "Epoch 1: 100%|███████████████████████████████| 938/938 [00:04<00:00, 229.67it/s]\n",
      "Epoch 2: 100%|███████████████████████████████| 938/938 [00:04<00:00, 223.92it/s]\n"
     ]
    },
    {
     "data": {
      "image/png": "[encoded data removed]",
      "text/plain": [
       "<Figure size 1000x500 with 1 Axes>"
      ]
     },
     "metadata": {},
     "output_type": "display_data"
    }
   ],
   "source": [
    "train_loader = DataLoader(train_dataset, batch_size=64, shuffle=True)\n",
    "\n",
    "# Lists to store loss values for plotting\n",
    "train_losses = []\n",
    "\n",
    "# Training Loop\n",
    "for epoch in range(2):\n",
    "    model.train()\n",
    "    #epoch_loss = 0\n",
    "    for inputs, _ in tqdm(train_loader, desc=f\"Epoch {epoch + 1}\"):\n",
    "        inputs = toTensor(inputs).view(-1,1,28,28)\n",
    "        optimizer.zero_grad()\n",
    "        outputs = model(inputs)\n",
    "        loss = criterion(outputs.reshape_as(inputs), inputs)\n",
    "        loss.backward()\n",
    "        optimizer.step()\n",
    "        #epoch_loss += loss.item()\n",
    "\n",
    "        #avg_epoch_loss = epoch_loss/len(train_loader)\n",
    "        train_losses.append(loss.item()) # Store loss for plotting\n",
    "        if (i + 1) % 100 == 0:\n",
    "            print(f\"loss: {loss.item()}\")\n",
    "    #print(f\"loss: {loss.item()}\")\n",
    "\n",
    "\n",
    "# Plotting the loss\n",
    "plt.figure(figsize=(10, 5))\n",
    "plt.plot(train_losses, label='Training Loss')\n",
    "plt.xlabel('Iteration')\n",
    "plt.ylabel('Loss')\n",
    "plt.title('Training Loss Curve')\n",
    "plt.legend()\n",
    "plt.grid(True)\n",
    "plt.show()"
   ]
  },
  {
   "cell_type": "code",
   "execution_count": 24,
   "metadata": {
    "id": "HFDY_Xm5-iNm"
   },
   "outputs": [],
   "source": [
    "test_loader = DataLoader(test_dataset, batch_size=64, shuffle=False)\n",
    "model.eval()\n",
    "test_inputs = []\n",
    "test_outputs = []\n",
    "for inputs, _ in test_loader:\n",
    "    outputs = model(inputs)\n",
    "    test_inputs.append(inputs.detach().cpu().numpy())\n",
    "    test_outputs.append(outputs.reshape_as(inputs).detach().cpu().numpy())"
   ]
  },
  {
   "cell_type": "code",
   "execution_count": 25,
   "metadata": {
    "id": "EOkcT4qBLHdm"
   },
   "outputs": [],
   "source": [
    "# DO NOT MODIFY\n",
    "# Convert lists of tensors to numpy arrays\n",
    "test_inputs = np.concatenate(test_inputs)\n",
    "test_outputs = np.concatenate(test_outputs)"
   ]
  },
  {
   "cell_type": "code",
   "execution_count": 26,
   "metadata": {
    "id": "bzwptrUfImXw"
   },
   "outputs": [
    {
     "data": {
      "image/png": "[encoded data removed]",
      "text/plain": [
       "<Figure size 600x300 with 2 Axes>"
      ]
     },
     "metadata": {},
     "output_type": "display_data"
    },
    {
     "data": {
      "image/png": "[encoded data removed]",
      "text/plain": [
       "<Figure size 600x300 with 2 Axes>"
      ]
     },
     "metadata": {},
     "output_type": "display_data"
    },
    {
     "data": {
      "image/png": "[encoded data removed]",
      "text/plain": [
       "<Figure size 600x300 with 2 Axes>"
      ]
     },
     "metadata": {},
     "output_type": "display_data"
    },
    {
     "data": {
      "image/png": "[encoded data removed]",
      "text/plain": [
       "<Figure size 600x300 with 2 Axes>"
      ]
     },
     "metadata": {},
     "output_type": "display_data"
    },
    {
     "data": {
      "image/png": "[encoded data removed]",
      "text/plain": [
       "<Figure size 600x300 with 2 Axes>"
      ]
     },
     "metadata": {},
     "output_type": "display_data"
    }
   ],
   "source": [
    "# DO NOT MODIFY\n",
    "num_images = 5\n",
    "\n",
    "for i in range(num_images):\n",
    "    plt.figure(figsize=(6, 3))\n",
    "\n",
    "    # Original image\n",
    "    plt.subplot(1, 2, 1)\n",
    "    plt.imshow(test_inputs[i, :, :], cmap=\"gray\")\n",
    "    plt.title(\"Original Image\")\n",
    "\n",
    "    # Reconstructed image\n",
    "    plt.subplot(1, 2, 2)\n",
    "    plt.imshow(test_outputs[i, :, :], cmap=\"gray\")\n",
    "    plt.title(\"Reconstructed Image\")\n",
    "\n",
    "    plt.show()"
   ]
  },
  {
   "cell_type": "markdown",
   "metadata": {
    "id": "sCfXJYZ00Cqz"
   },
   "source": [
    "## Summary\n",
    "Changed the loss function to MSELoss which is more suited to the task at hand <br>\n",
    "normalised the inputs so that each of the pixel values lies between 0 and 1 <br>\n",
    "added optimizer.zero_grad() to make the gradients zero before backpropagation <br>\n",
    "shaped the inputs appropriately to 28*28"
   ]
  },
  {
   "cell_type": "markdown",
   "metadata": {
    "id": "KpvR0T2gEKQs",
    "tags": []
   },
   "source": [
    "# Section 2 - Improve the model"
   ]
  },
  {
   "cell_type": "markdown",
   "metadata": {
    "id": "Z1VvN1AlkKhZ"
   },
   "source": [
    " *This section is more open-ended and less like the previous section.*\n",
    "\n",
    " **Expected time on this section: 30 minutes**<br>\n",
    "**Maximum time on this section: 45 minutes**<br>\n",
    "\n",
    " In this section, you have to improve the model's performance by making changes to the training code to reduce the validation loss further. You are free to write your own autoencoder implementation in the AdvancedAutoencoder class, or use the same implementation from above.\n",
    "Don't constraint yourself in this section! There are many ways to improve performance and you should feel free to try creative solutions. If the validation loss and corresponding visualization looks good to you, you can move to section 3 (and come back later to optimize the loss further if you want). If you are not able to achieve sufficiently low loss, then use our provided weights for section 3, otherwise use your own model. We provided a helper function for you to check if your validation loss is lower than the loss with our provided model's weights.\n",
    "\n",
    " Note:\n",
    " - We have written code to check the forward pass of your model doesn't exceed 0.05 seconds on a single batch. Make sure this condition is always satisfied.\n",
    " - You also need to implement your own `random_split` function.\n",
    " - One obvious thing one might do is to make the latent space dimension equal to the input dimension to achieve perfect zero loss. But this is not an autoencoder as it is not compressing the information. So latent space dimension should be fixed (=32) and should be not be \"tuned\".\n",
    "\n",
    " Also, feel free to reuse the code from previous section to get started."
   ]
  },
  {
   "cell_type": "code",
   "execution_count": 27,
   "metadata": {
    "id": "5Asz67uwD-So"
   },
   "outputs": [],
   "source": [
    "class AdvancedAutoencoder(nn.Module):\n",
    "  def __init__(self, latent_dim=32):\n",
    "    \"\"\"Make sure encoder compresses the image to a 32-dimensional latent vector.\"\"\"\n",
    "    super(AdvancedAutoencoder, self).__init__()\n",
    "    # TODO: Write your implementation here\n",
    "    self.encoder = nn.Sequential(\n",
    "        nn.Conv2d(1, 16, kernel_size=3, stride=2, padding=1),\n",
    "        nn.ReLU(),\n",
    "        nn.Conv2d(16, 32, kernel_size=3, stride=2, padding=1),\n",
    "        nn.ReLU(),\n",
    "        nn.Flatten(),\n",
    "        nn.Linear(32 * 7 * 7, 64)\n",
    "    )\n",
    "\n",
    "    self.decoder = nn.Sequential(\n",
    "        nn.Linear(64, 32 * 7 * 7),\n",
    "        nn.ReLU(),\n",
    "        nn.Unflatten(1, (32, 7, 7)),\n",
    "        nn.ConvTranspose2d(32, 16, kernel_size=3, stride=2, padding=1, output_padding=1),\n",
    "        nn.ReLU(),\n",
    "        nn.ConvTranspose2d(16, 1, kernel_size=3, stride=2, padding=1, output_padding=1),\n",
    "        nn.Sigmoid()\n",
    "    )\n",
    "  def forward(self, x):\n",
    "    # TODO: Write your implementation here\n",
    "    x = self.encoder(x)\n",
    "    x = self.decoder(x)\n",
    "    return x"
   ]
  },
  {
   "cell_type": "code",
   "execution_count": 39,
   "metadata": {},
   "outputs": [],
   "source": [
    "def toTensor(x):\n",
    "    x = torch.from_numpy(np.array(x)).float() / 255.0\n",
    "    return x.unsqueeze(0)"
   ]
  },
  {
   "cell_type": "code",
   "execution_count": 40,
   "metadata": {},
   "outputs": [
    {
     "name": "stderr",
     "output_type": "stream",
     "text": [
      "/tmp/ipykernel_6388/3757253876.py:1: FutureWarning: You are using `torch.load` with `weights_only=False` (the current default value), which uses the default pickle module implicitly. It is possible to construct malicious pickle data which will execute arbitrary code during unpickling (See https://github.com/pytorch/pytorch/blob/main/SECURITY.md#untrusted-models for more details). In a future release, the default value for `weights_only` will be flipped to `True`. This limits the functions that could be executed during unpickling. Arbitrary objects will no longer be allowed to be loaded via this mode unless they are explicitly allowlisted by the user via `torch.serialization.add_safe_globals`. We recommend you start setting `weights_only=True` for any use case where you don't have full control of the loaded file. Please open an issue on GitHub for any issues related to this experimental feature.\n",
      "  train_dataset = torch.load('data/mnist_dataset_train.pt')\n",
      "/tmp/ipykernel_6388/3757253876.py:4: FutureWarning: You are using `torch.load` with `weights_only=False` (the current default value), which uses the default pickle module implicitly. It is possible to construct malicious pickle data which will execute arbitrary code during unpickling (See https://github.com/pytorch/pytorch/blob/main/SECURITY.md#untrusted-models for more details). In a future release, the default value for `weights_only` will be flipped to `True`. This limits the functions that could be executed during unpickling. Arbitrary objects will no longer be allowed to be loaded via this mode unless they are explicitly allowlisted by the user via `torch.serialization.add_safe_globals`. We recommend you start setting `weights_only=True` for any use case where you don't have full control of the loaded file. Please open an issue on GitHub for any issues related to this experimental feature.\n",
      "  test_dataset = torch.load('data/mnist_dataset_test.pt')\n"
     ]
    }
   ],
   "source": [
    "train_dataset = torch.load('data/mnist_dataset_train.pt')\n",
    "train_dataset.transform = toTensor\n",
    "\n",
    "test_dataset = torch.load('data/mnist_dataset_test.pt')\n",
    "test_dataset.transform = toTensor"
   ]
  },
  {
   "cell_type": "code",
   "execution_count": 41,
   "metadata": {},
   "outputs": [],
   "source": [
    "train_loader = DataLoader(train_dataset, batch_size=64, shuffle=True)"
   ]
  },
  {
   "cell_type": "code",
   "execution_count": 42,
   "metadata": {},
   "outputs": [
    {
     "name": "stdout",
     "output_type": "stream",
     "text": [
      "Input shape: torch.Size([64, 28, 1, 28])\n"
     ]
    }
   ],
   "source": [
    "print(f\"Input shape: {inputs.shape}\")"
   ]
  },
  {
   "cell_type": "code",
   "execution_count": 43,
   "metadata": {
    "id": "H_cMnqInExF-"
   },
   "outputs": [
    {
     "name": "stdout",
     "output_type": "stream",
     "text": [
      "Forward pass took 0.00228786 seconds\n"
     ]
    }
   ],
   "source": [
    "# DO NOT MODIFY\n",
    "model = AdvancedAutoencoder()\n",
    "max_allowed_time = 0.05  # seconds\n",
    "\n",
    "# Measure time for the forward pass\n",
    "i, (inputs, _) = next(enumerate(train_loader))\n",
    "start_time = time.time()\n",
    "output = model(inputs)\n",
    "end_time = time.time()\n",
    "\n",
    "# Measure once again, time for the forward pass\n",
    "i, (inputs, _) = next(enumerate(train_loader))\n",
    "start_time = time.time()\n",
    "output = model(inputs)\n",
    "end_time = time.time()\n",
    "\n",
    "elapsed_time = end_time - start_time\n",
    "\n",
    "# Assert the time constraint\n",
    "assert elapsed_time <= max_allowed_time, f\"Forward pass exceeded time limit! Took {elapsed_time:.8f} seconds\"\n",
    "print(f\"Forward pass took {elapsed_time:.8f} seconds\")"
   ]
  },
  {
   "cell_type": "code",
   "execution_count": 46,
   "metadata": {
    "id": "zX9lFUN0HM3f"
   },
   "outputs": [],
   "source": [
    "def random_split(dataset, lengths):\n",
    "    '''\n",
    "    TODO: Implement this function from scratch using torch/numpy operations.\n",
    "    Splits randomly a given dataset into two datasets,\n",
    "    consisting of the specified lengths.\n",
    "    '''\n",
    "    total_size = len(dataset)\n",
    "    \n",
    "    # Calculate the indices for the split\n",
    "    indices = torch.randperm(total_size).tolist()  # Generate a random permutation of indices\n",
    "    \n",
    "    # Split indices into the two parts\n",
    "    split1_indices = indices[:lengths[0]]\n",
    "    split2_indices = indices[lengths[0]:]\n",
    "    \n",
    "    # Create subsets of the dataset using the indices\n",
    "    dataset1 = torch.utils.data.Subset(dataset, split1_indices)\n",
    "    dataset2 = torch.utils.data.Subset(dataset, split2_indices)\n",
    "    \n",
    "    return dataset1, dataset2"
   ]
  },
  {
   "cell_type": "code",
   "execution_count": 47,
   "metadata": {
    "id": "XqskePqoLBe7"
   },
   "outputs": [],
   "source": [
    "# Calculate split sizes\n",
    "train_size = int(0.8 * len(train_dataset))\n",
    "val_size = len(train_dataset) - train_size\n",
    "\n",
    "# Split the dataset\n",
    "train_subset, val_subset = random_split(train_dataset, [train_size, val_size])\n",
    "\n",
    "# Create DataLoaders\n",
    "train_loader = DataLoader(train_subset, batch_size=64, shuffle=True)\n",
    "val_loader = DataLoader(val_subset, batch_size=64, shuffle=False)"
   ]
  },
  {
   "cell_type": "code",
   "execution_count": 48,
   "metadata": {
    "id": "mSUHSfC1OGOh"
   },
   "outputs": [
    {
     "name": "stdout",
     "output_type": "stream",
     "text": [
      "Epoch [1/10]\n",
      "Training Loss: 0.0288, Validation Loss: 0.0081\n",
      "Epoch [2/10]\n",
      "Training Loss: 0.0063, Validation Loss: 0.0052\n",
      "Epoch [3/10]\n",
      "Training Loss: 0.0045, Validation Loss: 0.0041\n",
      "Epoch [4/10]\n",
      "Training Loss: 0.0037, Validation Loss: 0.0036\n",
      "Epoch [5/10]\n",
      "Training Loss: 0.0033, Validation Loss: 0.0032\n",
      "Epoch [6/10]\n",
      "Training Loss: 0.0031, Validation Loss: 0.0030\n",
      "Epoch [7/10]\n",
      "Training Loss: 0.0029, Validation Loss: 0.0028\n",
      "Epoch [8/10]\n",
      "Training Loss: 0.0027, Validation Loss: 0.0027\n",
      "Epoch [9/10]\n",
      "Training Loss: 0.0026, Validation Loss: 0.0026\n",
      "Epoch [10/10]\n",
      "Training Loss: 0.0025, Validation Loss: 0.0026\n"
     ]
    }
   ],
   "source": [
    "# TODO: train your model and calculate validation loss (val_loss)\n",
    "\n",
    "epochs = 10\n",
    "learning_rate = 0.001\n",
    "max_allowed_time = 0.05\n",
    "\n",
    "criterion = nn.MSELoss()\n",
    "optimizer = optim.Adam(model.parameters(), lr=learning_rate)\n",
    "\n",
    "for epoch in range(epochs):\n",
    "    model.train()\n",
    "    train_loss = 0.0\n",
    "\n",
    "    for i, (inputs, _) in enumerate(train_loader):\n",
    "        optimizer.zero_grad()\n",
    "        outputs = model(inputs)\n",
    "        loss = criterion(outputs, inputs)\n",
    "        loss.backward()\n",
    "        optimizer.step()\n",
    "\n",
    "        train_loss += loss.item()\n",
    "\n",
    "    train_loss /= len(train_loader)\n",
    "\n",
    "    model.eval()\n",
    "    val_loss = 0.0\n",
    "\n",
    "    with torch.no_grad():\n",
    "        for inputs, _ in val_loader:\n",
    "            outputs = model(inputs)\n",
    "            loss = criterion(outputs, inputs)\n",
    "            val_loss += loss.item()\n",
    "\n",
    "    val_loss /= len(val_loader)\n",
    "\n",
    "    print(f\"Epoch [{epoch+1}/{epochs}]\")\n",
    "    print(f\"Training Loss: {train_loss:.4f}, Validation Loss: {val_loss:.4f}\")"
   ]
  },
  {
   "cell_type": "code",
   "execution_count": 49,
   "metadata": {
    "id": "ur1udoXsEGDU"
   },
   "outputs": [],
   "source": [
    "# DO NOT MODIFY\n",
    "def check_loss_lower_than_reference_loss(your_val_loss)  -> bool:\n",
    "  reference_loss = 0.0927\n",
    "  assert your_val_loss < reference_loss, \"Your validation loss is higher than our pretrained model's loss\""
   ]
  },
  {
   "cell_type": "code",
   "execution_count": 50,
   "metadata": {
    "id": "EYfybNWUOSY3"
   },
   "outputs": [],
   "source": [
    "# TODO: verify your loss is lower than our reference loss\n",
    "check_loss_lower_than_reference_loss(val_loss)"
   ]
  },
  {
   "cell_type": "markdown",
   "metadata": {
    "id": "942E7DnI0Cq3"
   },
   "source": [
    "## Summary\n",
    "implemented a convolutional autoencoder for better feature extraction and spatial understanding <br>\n",
    "implemented a split function to divide the train ser into training and validation sets <br>\n",
    "<br>\n",
    "*what did not work*<br>\n",
    "while validating that the forward pass does not exceed the time limit, i had issues with the input sizes, which I had to hammer down in re-implementing toTensor() function."
   ]
  },
  {
   "cell_type": "markdown",
   "metadata": {
    "id": "9SkgaQkiENKj"
   },
   "source": [
    "# Section 3 - Generate images from the autoencoder"
   ]
  },
  {
   "cell_type": "markdown",
   "metadata": {
    "id": "0pHC3L9YpaT5"
   },
   "source": [
    "In the final section, you will use your trained model from the previous section (or our pre-trained model, if you weren't able to complete the previous section) to sample images of hand-written digits given a digit in [0-9]. Specifically, you will implement the function `generate_image_from_digit(x: int, n_samples: int) -> NDArray[np.float32]` that returns an image. This function should sample images by sampling appropriate points in the $D_{latent}$-sized latent space and using the decoder to generate a new image for the digit. Every call to the function with the same digit should produce a different image.\n",
    "\n",
    "**Expected time on this section: 30 minutes**<br>\n",
    "**Maximum time on this section: 45 minutes**"
   ]
  },
  {
   "cell_type": "code",
   "execution_count": null,
   "metadata": {
    "id": "5UiblNKjESOL"
   },
   "outputs": [],
   "source": [
    "# You should use the below pretrained model, if you weren't able to complete the previous section well.\n",
    "# model = load_pretrained_model()"
   ]
  },
  {
   "cell_type": "code",
   "execution_count": 64,
   "metadata": {},
   "outputs": [
    {
     "name": "stderr",
     "output_type": "stream",
     "text": [
      "/tmp/ipykernel_6388/2022305967.py:5: FutureWarning: You are using `torch.load` with `weights_only=False` (the current default value), which uses the default pickle module implicitly. It is possible to construct malicious pickle data which will execute arbitrary code during unpickling (See https://github.com/pytorch/pytorch/blob/main/SECURITY.md#untrusted-models for more details). In a future release, the default value for `weights_only` will be flipped to `True`. This limits the functions that could be executed during unpickling. Arbitrary objects will no longer be allowed to be loaded via this mode unless they are explicitly allowlisted by the user via `torch.serialization.add_safe_globals`. We recommend you start setting `weights_only=True` for any use case where you don't have full control of the loaded file. Please open an issue on GitHub for any issues related to this experimental feature.\n",
      "  train_dataset = torch.load('data/mnist_dataset_train.pt')\n",
      "/tmp/ipykernel_6388/2022305967.py:8: FutureWarning: You are using `torch.load` with `weights_only=False` (the current default value), which uses the default pickle module implicitly. It is possible to construct malicious pickle data which will execute arbitrary code during unpickling (See https://github.com/pytorch/pytorch/blob/main/SECURITY.md#untrusted-models for more details). In a future release, the default value for `weights_only` will be flipped to `True`. This limits the functions that could be executed during unpickling. Arbitrary objects will no longer be allowed to be loaded via this mode unless they are explicitly allowlisted by the user via `torch.serialization.add_safe_globals`. We recommend you start setting `weights_only=True` for any use case where you don't have full control of the loaded file. Please open an issue on GitHub for any issues related to this experimental feature.\n",
      "  test_dataset = torch.load('data/mnist_dataset_test.pt')\n"
     ]
    }
   ],
   "source": [
    "def toTensor(x):\n",
    "    x = torch.from_numpy(np.array(x)).float() / 255.0\n",
    "    return x.unsqueeze(0)\n",
    "\n",
    "train_dataset = torch.load('data/mnist_dataset_train.pt')\n",
    "train_dataset.transform = toTensor\n",
    "\n",
    "test_dataset = torch.load('data/mnist_dataset_test.pt')\n",
    "test_dataset.transform = toTensor"
   ]
  },
  {
   "cell_type": "code",
   "execution_count": 65,
   "metadata": {},
   "outputs": [],
   "source": [
    "train_loader = DataLoader(train_dataset, batch_size=64, shuffle=True)"
   ]
  },
  {
   "cell_type": "code",
   "execution_count": 68,
   "metadata": {
    "id": "6qsjSzEfsUuB"
   },
   "outputs": [],
   "source": [
    "def generate_image_from_digit(digit: int, n_samples: int) -> NDArray[np.float32]:\n",
    "    \"\"\"\n",
    "    Returns an RGB MNIST image (with values between [0, 255]) as a 3D NumPy array of dtype float32.\n",
    "    \"\"\"\n",
    "    assert digit <= 9  and digit >= 0, \"Digit must be between 0 and 9\"\n",
    "    # TODO: Write your implementation here\n",
    "    samples = []\n",
    "\n",
    "    for i, (image, label) in enumerate(train_loader):\n",
    "        matching_indices = (label == digit).nonzero(as_tuple=True)[0]\n",
    "        \n",
    "        for idx in matching_indices:\n",
    "            samples.append(image[idx])\n",
    "\n",
    "        if len(samples) >= n_samples:\n",
    "            break\n",
    "\n",
    "    if len(samples) == 0:\n",
    "        raise ValueError(f\"No samples found for digit {digit}\")\n",
    "\n",
    "    generated_images = []\n",
    "\n",
    "    for _ in range(n_samples):\n",
    "        sample_image = random.choice(samples)\n",
    "        sample_image = sample_image.unsqueeze(0)\n",
    "\n",
    "        model.eval()\n",
    "        with torch.no_grad():\n",
    "            reconstructed_image = model(sample_image)\n",
    "\n",
    "        reconstructed_image = reconstructed_image.squeeze().cpu().numpy()\n",
    "\n",
    "        rgb_image = np.stack([reconstructed_image] * 3, axis=-1)\n",
    "\n",
    "        rgb_image = np.clip(rgb_image * 255.0, 0, 255).astype(np.float32)\n",
    "\n",
    "        generated_images.append(rgb_image)\n",
    "\n",
    "    return np.array(generated_images)\n",
    "    #return np.zeros((28, 28, 3), dtype=np.float32)"
   ]
  },
  {
   "cell_type": "code",
   "execution_count": 69,
   "metadata": {
    "id": "D5hskPUOxD3i"
   },
   "outputs": [
    {
     "name": "stderr",
     "output_type": "stream",
     "text": [
      "Clipping input data to the valid range for imshow with RGB data ([0..1] for floats or [0..255] for integers). Got range [3.0409986e-16..254.19725].\n",
      "Clipping input data to the valid range for imshow with RGB data ([0..1] for floats or [0..255] for integers). Got range [8.709887e-12..254.51788].\n"
     ]
    },
    {
     "data": {
      "image/png": "[encoded data removed]",
      "text/plain": [
       "<Figure size 640x480 with 2 Axes>"
      ]
     },
     "metadata": {},
     "output_type": "display_data"
    },
    {
     "name": "stderr",
     "output_type": "stream",
     "text": [
      "Clipping input data to the valid range for imshow with RGB data ([0..1] for floats or [0..255] for integers). Got range [1.1581556e-09..241.16745].\n",
      "Clipping input data to the valid range for imshow with RGB data ([0..1] for floats or [0..255] for integers). Got range [8.9936647e-10..253.95854].\n"
     ]
    },
    {
     "data": {
      "image/png": "[encoded data removed]",
      "text/plain": [
       "<Figure size 640x480 with 2 Axes>"
      ]
     },
     "metadata": {},
     "output_type": "display_data"
    },
    {
     "name": "stderr",
     "output_type": "stream",
     "text": [
      "Clipping input data to the valid range for imshow with RGB data ([0..1] for floats or [0..255] for integers). Got range [2.6232504e-12..253.52383].\n",
      "Clipping input data to the valid range for imshow with RGB data ([0..1] for floats or [0..255] for integers). Got range [1.8620545e-09..253.99864].\n"
     ]
    },
    {
     "data": {
      "image/png": "[encoded data removed]",
      "text/plain": [
       "<Figure size 640x480 with 2 Axes>"
      ]
     },
     "metadata": {},
     "output_type": "display_data"
    },
    {
     "name": "stderr",
     "output_type": "stream",
     "text": [
      "Clipping input data to the valid range for imshow with RGB data ([0..1] for floats or [0..255] for integers). Got range [1.6325112e-16..251.6438].\n",
      "Clipping input data to the valid range for imshow with RGB data ([0..1] for floats or [0..255] for integers). Got range [1.6325112e-16..251.6438].\n"
     ]
    },
    {
     "data": {
      "image/png": "[encoded data removed]",
      "text/plain": [
       "<Figure size 640x480 with 2 Axes>"
      ]
     },
     "metadata": {},
     "output_type": "display_data"
    },
    {
     "name": "stderr",
     "output_type": "stream",
     "text": [
      "Clipping input data to the valid range for imshow with RGB data ([0..1] for floats or [0..255] for integers). Got range [3.5521328e-10..247.34306].\n",
      "Clipping input data to the valid range for imshow with RGB data ([0..1] for floats or [0..255] for integers). Got range [7.294865e-12..252.86844].\n"
     ]
    },
    {
     "data": {
      "image/png": "[encoded data removed]",
      "text/plain": [
       "<Figure size 640x480 with 2 Axes>"
      ]
     },
     "metadata": {},
     "output_type": "display_data"
    },
    {
     "name": "stderr",
     "output_type": "stream",
     "text": [
      "Clipping input data to the valid range for imshow with RGB data ([0..1] for floats or [0..255] for integers). Got range [1.6543544e-10..250.99638].\n",
      "Clipping input data to the valid range for imshow with RGB data ([0..1] for floats or [0..255] for integers). Got range [1.662872e-20..253.69604].\n"
     ]
    },
    {
     "data": {
      "image/png": "[encoded data removed]",
      "text/plain": [
       "<Figure size 640x480 with 2 Axes>"
      ]
     },
     "metadata": {},
     "output_type": "display_data"
    },
    {
     "name": "stderr",
     "output_type": "stream",
     "text": [
      "Clipping input data to the valid range for imshow with RGB data ([0..1] for floats or [0..255] for integers). Got range [6.967116e-09..251.09676].\n",
      "Clipping input data to the valid range for imshow with RGB data ([0..1] for floats or [0..255] for integers). Got range [6.967116e-09..251.09676].\n"
     ]
    },
    {
     "data": {
      "image/png": "[encoded data removed]",
      "text/plain": [
       "<Figure size 640x480 with 2 Axes>"
      ]
     },
     "metadata": {},
     "output_type": "display_data"
    },
    {
     "name": "stderr",
     "output_type": "stream",
     "text": [
      "Clipping input data to the valid range for imshow with RGB data ([0..1] for floats or [0..255] for integers). Got range [1.642628e-12..251.83653].\n",
      "Clipping input data to the valid range for imshow with RGB data ([0..1] for floats or [0..255] for integers). Got range [4.46546e-15..254.09648].\n"
     ]
    },
    {
     "data": {
      "image/png": "[encoded data removed]",
      "text/plain": [
       "<Figure size 640x480 with 2 Axes>"
      ]
     },
     "metadata": {},
     "output_type": "display_data"
    },
    {
     "name": "stderr",
     "output_type": "stream",
     "text": [
      "Clipping input data to the valid range for imshow with RGB data ([0..1] for floats or [0..255] for integers). Got range [3.7256144e-14..250.62997].\n",
      "Clipping input data to the valid range for imshow with RGB data ([0..1] for floats or [0..255] for integers). Got range [9.379289e-12..251.11499].\n"
     ]
    },
    {
     "data": {
      "image/png": "[encoded data removed]",
      "text/plain": [
       "<Figure size 640x480 with 2 Axes>"
      ]
     },
     "metadata": {},
     "output_type": "display_data"
    },
    {
     "name": "stderr",
     "output_type": "stream",
     "text": [
      "Clipping input data to the valid range for imshow with RGB data ([0..1] for floats or [0..255] for integers). Got range [8.9459157e-10..254.03786].\n",
      "Clipping input data to the valid range for imshow with RGB data ([0..1] for floats or [0..255] for integers). Got range [5.563934e-10..247.3322].\n"
     ]
    },
    {
     "data": {
      "image/png": "[encoded data removed]",
      "text/plain": [
       "<Figure size 640x480 with 2 Axes>"
      ]
     },
     "metadata": {},
     "output_type": "display_data"
    }
   ],
   "source": [
    "'''def visualise_images(digit, n_samples):\n",
    "  generated_images = generate_image_from_digit(digit, n_samples)\n",
    "  for i in range(n_samples):\n",
    "      plt.subplot(1, n_samples, i + 1)\n",
    "      plt.imshow(generated_images[i], cmap='gray')\n",
    "      plt.axis('off')\n",
    "\n",
    "  plt.show()\n",
    "\n",
    "for digit in range(10):\n",
    "  visualise_images(digit, 2)'''\n",
    "\n",
    "def visualise_images(digit, n_samples):\n",
    "    generated_images = generate_image_from_digit(digit, n_samples)\n",
    "    for i in range(n_samples):\n",
    "        plt.subplot(1, n_samples, i + 1)\n",
    "        plt.imshow(generated_images[i], cmap='gray')\n",
    "        plt.axis('off')\n",
    "\n",
    "    plt.show()\n",
    "\n",
    "for digit in range(10):\n",
    "    visualise_images(digit, 2)"
   ]
  },
  {
   "cell_type": "code",
   "execution_count": 70,
   "metadata": {
    "id": "KD19G9l1EAC0"
   },
   "outputs": [],
   "source": [
    "def check_generator_produces_different_images(digit):\n",
    "    generated_images = [generate_image_from_digit(digit, 1) for _ in range(2)]\n",
    "    return not torch.allclose(torch.from_numpy(generated_images[0]), torch.from_numpy(generated_images[1]))"
   ]
  },
  {
   "cell_type": "code",
   "execution_count": 71,
   "metadata": {
    "id": "BvllsCRdXapl"
   },
   "outputs": [],
   "source": [
    "for digit in range(10):\n",
    "  assert check_generator_produces_different_images(digit), \"Generator must be able to produce different images for the same digit\""
   ]
  },
  {
   "cell_type": "markdown",
   "metadata": {
    "id": "o9QqIeLE0Cq5"
   },
   "source": [
    "## Summary\n",
    "implemented an image generator function that selects the specified number of samples from the train_loader <br>\n",
    "the function randomly selects an image out of the sample to pass through the autoencoder <br>\n",
    "the greyscale images are converted to RGB and scaled in the range [0,255] for visualisation <br>\n",
    "<br>\n",
    "*issues encountered*<br>\n",
    "the improper datatypes while extracting the label out of the scalar while it was actually a tensor."
   ]
  },
  {
   "cell_type": "code",
   "execution_count": null,
   "metadata": {
    "id": "iVoJ3sQc0Cq5"
   },
   "outputs": [],
   "source": []
  }
 ],
 "metadata": {
  "colab": {
   "provenance": []
  },
  "kernelspec": {
   "display_name": "Python 3 (ipykernel)",
   "language": "python",
   "name": "python3"
  },
  "language_info": {
   "codemirror_mode": {
    "name": "ipython",
    "version": 3
   },
   "file_extension": ".py",
   "mimetype": "text/x-python",
   "name": "python",
   "nbconvert_exporter": "python",
   "pygments_lexer": "ipython3",
   "version": "3.12.7"
  },
  "toc-autonumbering": false
 },
 "nbformat": 4,
 "nbformat_minor": 4
}
